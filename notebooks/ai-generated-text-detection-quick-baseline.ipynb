{
 "cells": [
  {
   "cell_type": "markdown",
   "id": "9d9d6436",
   "metadata": {
    "papermill": {
     "duration": 0.004341,
     "end_time": "2023-11-30T00:59:32.522297",
     "exception": false,
     "start_time": "2023-11-30T00:59:32.517956",
     "status": "completed"
    },
    "tags": []
   },
   "source": [
    "# Credit\n",
    "Inspired by VLADIMIR DEMIDOV's work : <br>\n",
    "https://www.kaggle.com/code/yekenot/llm-detect-by-regression"
   ]
  },
  {
   "cell_type": "markdown",
   "id": "418bf0b5",
   "metadata": {
    "papermill": {
     "duration": 0.003387,
     "end_time": "2023-11-30T00:59:32.531501",
     "exception": false,
     "start_time": "2023-11-30T00:59:32.528114",
     "status": "completed"
    },
    "tags": []
   },
   "source": [
    "# Importing library"
   ]
  },
  {
   "cell_type": "code",
   "execution_count": 1,
   "id": "393e3b9b",
   "metadata": {
    "execution": {
     "iopub.execute_input": "2023-11-30T00:59:32.541933Z",
     "iopub.status.busy": "2023-11-30T00:59:32.541037Z",
     "iopub.status.idle": "2023-11-30T00:59:35.418136Z",
     "shell.execute_reply": "2023-11-30T00:59:35.417308Z"
    },
    "papermill": {
     "duration": 2.885371,
     "end_time": "2023-11-30T00:59:35.420603",
     "exception": false,
     "start_time": "2023-11-30T00:59:32.535232",
     "status": "completed"
    },
    "tags": []
   },
   "outputs": [],
   "source": [
    "import numpy as np\n",
    "import pandas as pd\n",
    "from sklearn.metrics import roc_auc_score\n",
    "from sklearn.linear_model import LogisticRegression\n",
    "import xgboost as xgb\n",
    "from xgboost import XGBClassifier\n",
    "from sklearn.naive_bayes import GaussianNB\n",
    "from sklearn.model_selection import StratifiedKFold\n",
    "from sklearn.model_selection import KFold\n",
    "from sklearn.feature_extraction.text import TfidfVectorizer\n",
    "from sklearn.feature_extraction.text import CountVectorizer\n",
    "from sklearn.model_selection import train_test_split\n",
    "from sklearn.ensemble import VotingClassifier\n",
    "from sklearn.metrics import classification_report"
   ]
  },
  {
   "cell_type": "markdown",
   "id": "00ed6801",
   "metadata": {
    "papermill": {
     "duration": 0.003266,
     "end_time": "2023-11-30T00:59:35.427849",
     "exception": false,
     "start_time": "2023-11-30T00:59:35.424583",
     "status": "completed"
    },
    "tags": []
   },
   "source": [
    "# importing files"
   ]
  },
  {
   "cell_type": "code",
   "execution_count": 2,
   "id": "19aa78a5",
   "metadata": {
    "execution": {
     "iopub.execute_input": "2023-11-30T00:59:35.437093Z",
     "iopub.status.busy": "2023-11-30T00:59:35.436199Z",
     "iopub.status.idle": "2023-11-30T00:59:37.841720Z",
     "shell.execute_reply": "2023-11-30T00:59:37.840618Z"
    },
    "papermill": {
     "duration": 2.413017,
     "end_time": "2023-11-30T00:59:37.844238",
     "exception": false,
     "start_time": "2023-11-30T00:59:35.431221",
     "status": "completed"
    },
    "tags": []
   },
   "outputs": [],
   "source": [
    "train = pd.read_csv('/kaggle/input/daigt-proper-train-dataset/train_drcat_04.csv')\n",
    "test = pd.read_csv('/kaggle/input/llm-detect-ai-generated-text/test_essays.csv')"
   ]
  },
  {
   "cell_type": "code",
   "execution_count": 3,
   "id": "09248d5b",
   "metadata": {
    "execution": {
     "iopub.execute_input": "2023-11-30T00:59:37.855201Z",
     "iopub.status.busy": "2023-11-30T00:59:37.854699Z",
     "iopub.status.idle": "2023-11-30T00:59:37.878427Z",
     "shell.execute_reply": "2023-11-30T00:59:37.876850Z"
    },
    "papermill": {
     "duration": 0.032481,
     "end_time": "2023-11-30T00:59:37.881285",
     "exception": false,
     "start_time": "2023-11-30T00:59:37.848804",
     "status": "completed"
    },
    "tags": []
   },
   "outputs": [],
   "source": [
    "train.rename(columns = {'essay_id': 'id',\n",
    "                        'label' : 'generated',\n",
    "                        'prompt': 'prompt_id'}, inplace=True)\n",
    "train['prompt_id'] = pd.factorize(train['prompt_id'])[0]"
   ]
  },
  {
   "cell_type": "code",
   "execution_count": 4,
   "id": "044687c8",
   "metadata": {
    "execution": {
     "iopub.execute_input": "2023-11-30T00:59:37.890687Z",
     "iopub.status.busy": "2023-11-30T00:59:37.889716Z",
     "iopub.status.idle": "2023-11-30T00:59:37.922113Z",
     "shell.execute_reply": "2023-11-30T00:59:37.920688Z"
    },
    "papermill": {
     "duration": 0.039219,
     "end_time": "2023-11-30T00:59:37.924190",
     "exception": false,
     "start_time": "2023-11-30T00:59:37.884971",
     "status": "completed"
    },
    "tags": []
   },
   "outputs": [
    {
     "data": {
      "text/html": [
       "<div>\n",
       "<style scoped>\n",
       "    .dataframe tbody tr th:only-of-type {\n",
       "        vertical-align: middle;\n",
       "    }\n",
       "\n",
       "    .dataframe tbody tr th {\n",
       "        vertical-align: top;\n",
       "    }\n",
       "\n",
       "    .dataframe thead th {\n",
       "        text-align: right;\n",
       "    }\n",
       "</style>\n",
       "<table border=\"1\" class=\"dataframe\">\n",
       "  <thead>\n",
       "    <tr style=\"text-align: right;\">\n",
       "      <th></th>\n",
       "      <th>id</th>\n",
       "      <th>prompt_id</th>\n",
       "      <th>text</th>\n",
       "      <th>generated</th>\n",
       "    </tr>\n",
       "  </thead>\n",
       "  <tbody>\n",
       "    <tr>\n",
       "      <th>0</th>\n",
       "      <td>E897534557AF</td>\n",
       "      <td>0</td>\n",
       "      <td>In recent years, technology has had a profoun...</td>\n",
       "      <td>1</td>\n",
       "    </tr>\n",
       "    <tr>\n",
       "      <th>1</th>\n",
       "      <td>DFBA34FFE11D</td>\n",
       "      <td>-1</td>\n",
       "      <td>Should students participate in an extracurricu...</td>\n",
       "      <td>0</td>\n",
       "    </tr>\n",
       "    <tr>\n",
       "      <th>2</th>\n",
       "      <td>af37ecf5</td>\n",
       "      <td>-1</td>\n",
       "      <td>The electoral college is a symbol of mockery a...</td>\n",
       "      <td>0</td>\n",
       "    </tr>\n",
       "    <tr>\n",
       "      <th>3</th>\n",
       "      <td>5EC2696BAD78</td>\n",
       "      <td>-1</td>\n",
       "      <td>This is why I think the principle should allow...</td>\n",
       "      <td>0</td>\n",
       "    </tr>\n",
       "    <tr>\n",
       "      <th>4</th>\n",
       "      <td>llama_70b_v1843</td>\n",
       "      <td>1</td>\n",
       "      <td>I strongly believe that meditation and mindful...</td>\n",
       "      <td>1</td>\n",
       "    </tr>\n",
       "    <tr>\n",
       "      <th>...</th>\n",
       "      <td>...</td>\n",
       "      <td>...</td>\n",
       "      <td>...</td>\n",
       "      <td>...</td>\n",
       "    </tr>\n",
       "    <tr>\n",
       "      <th>44201</th>\n",
       "      <td>F7341069C4A4</td>\n",
       "      <td>-1</td>\n",
       "      <td>\"Oh man I didn't make the soccer team!\", yelle...</td>\n",
       "      <td>0</td>\n",
       "    </tr>\n",
       "    <tr>\n",
       "      <th>44202</th>\n",
       "      <td>AFE6E553DAC2</td>\n",
       "      <td>-1</td>\n",
       "      <td>I believe that using this technology could be ...</td>\n",
       "      <td>0</td>\n",
       "    </tr>\n",
       "    <tr>\n",
       "      <th>44203</th>\n",
       "      <td>falcon_180b_v1_600</td>\n",
       "      <td>92</td>\n",
       "      <td>The Face on Mars is a fascinating phenomenon t...</td>\n",
       "      <td>1</td>\n",
       "    </tr>\n",
       "    <tr>\n",
       "      <th>44204</th>\n",
       "      <td>A5F84C104693</td>\n",
       "      <td>-1</td>\n",
       "      <td>Texting &amp; Driving\\n\\nUsing your phone while dr...</td>\n",
       "      <td>0</td>\n",
       "    </tr>\n",
       "    <tr>\n",
       "      <th>44205</th>\n",
       "      <td>A148C659E98B</td>\n",
       "      <td>-1</td>\n",
       "      <td>Dear Principal,\\n\\nI have been really good thi...</td>\n",
       "      <td>0</td>\n",
       "    </tr>\n",
       "  </tbody>\n",
       "</table>\n",
       "<p>44206 rows × 4 columns</p>\n",
       "</div>"
      ],
      "text/plain": [
       "                       id  prompt_id  \\\n",
       "0            E897534557AF          0   \n",
       "1            DFBA34FFE11D         -1   \n",
       "2                af37ecf5         -1   \n",
       "3            5EC2696BAD78         -1   \n",
       "4         llama_70b_v1843          1   \n",
       "...                   ...        ...   \n",
       "44201        F7341069C4A4         -1   \n",
       "44202        AFE6E553DAC2         -1   \n",
       "44203  falcon_180b_v1_600         92   \n",
       "44204        A5F84C104693         -1   \n",
       "44205        A148C659E98B         -1   \n",
       "\n",
       "                                                    text  generated  \n",
       "0       In recent years, technology has had a profoun...          1  \n",
       "1      Should students participate in an extracurricu...          0  \n",
       "2      The electoral college is a symbol of mockery a...          0  \n",
       "3      This is why I think the principle should allow...          0  \n",
       "4      I strongly believe that meditation and mindful...          1  \n",
       "...                                                  ...        ...  \n",
       "44201  \"Oh man I didn't make the soccer team!\", yelle...          0  \n",
       "44202  I believe that using this technology could be ...          0  \n",
       "44203  The Face on Mars is a fascinating phenomenon t...          1  \n",
       "44204  Texting & Driving\\n\\nUsing your phone while dr...          0  \n",
       "44205  Dear Principal,\\n\\nI have been really good thi...          0  \n",
       "\n",
       "[44206 rows x 4 columns]"
      ]
     },
     "execution_count": 4,
     "metadata": {},
     "output_type": "execute_result"
    }
   ],
   "source": [
    "train = train[['id', 'prompt_id', 'text', 'generated']]\n",
    "train"
   ]
  },
  {
   "cell_type": "markdown",
   "id": "0c31e9ce",
   "metadata": {
    "papermill": {
     "duration": 0.003486,
     "end_time": "2023-11-30T00:59:37.931454",
     "exception": false,
     "start_time": "2023-11-30T00:59:37.927968",
     "status": "completed"
    },
    "tags": []
   },
   "source": [
    "# Logistic Regression"
   ]
  },
  {
   "cell_type": "code",
   "execution_count": 5,
   "id": "89ddd66d",
   "metadata": {
    "execution": {
     "iopub.execute_input": "2023-11-30T00:59:37.941292Z",
     "iopub.status.busy": "2023-11-30T00:59:37.940886Z",
     "iopub.status.idle": "2023-11-30T00:59:47.194882Z",
     "shell.execute_reply": "2023-11-30T00:59:47.193557Z"
    },
    "papermill": {
     "duration": 9.26201,
     "end_time": "2023-11-30T00:59:47.197461",
     "exception": false,
     "start_time": "2023-11-30T00:59:37.935451",
     "status": "completed"
    },
    "tags": []
   },
   "outputs": [],
   "source": [
    "df = pd.concat([train['text'], test['text']], axis=0)\n",
    "\n",
    "vectorizer = TfidfVectorizer(stop_words='english', max_features=50000)\n",
    "X = vectorizer.fit_transform(df)"
   ]
  },
  {
   "cell_type": "code",
   "execution_count": 6,
   "id": "87a0699a",
   "metadata": {
    "execution": {
     "iopub.execute_input": "2023-11-30T00:59:47.207939Z",
     "iopub.status.busy": "2023-11-30T00:59:47.207439Z",
     "iopub.status.idle": "2023-11-30T01:00:07.024358Z",
     "shell.execute_reply": "2023-11-30T01:00:07.023550Z"
    },
    "papermill": {
     "duration": 19.82469,
     "end_time": "2023-11-30T01:00:07.026396",
     "exception": false,
     "start_time": "2023-11-30T00:59:47.201706",
     "status": "completed"
    },
    "tags": []
   },
   "outputs": [
    {
     "name": "stdout",
     "output_type": "stream",
     "text": [
      "ROC AUC for fold 1: 0.9975\n",
      "ROC AUC for fold 2: 0.9974\n",
      "ROC AUC for fold 3: 0.9979\n",
      "ROC AUC for fold 4: 0.9975\n",
      "ROC AUC for fold 5: 0.9975\n",
      "Average ROC AUC: 0.9976\n",
      "Standard deviation: 0.0002\n"
     ]
    }
   ],
   "source": [
    "lr_model = LogisticRegression()\n",
    "cv = StratifiedKFold(n_splits=5, shuffle=True)\n",
    "auc_scores = []\n",
    "\n",
    "# Split the data into training and validation for each fold\n",
    "for train_idx, val_idx in cv.split(X[:train.shape[0]], train['generated']):\n",
    "    X_train, X_val = X[:train.shape[0]][train_idx], X[:train.shape[0]][val_idx]\n",
    "    y_train, y_val = train['generated'].iloc[train_idx], train['generated'].iloc[val_idx]\n",
    "\n",
    "    # Train the model on the training data\n",
    "    lr_model.fit(X_train, y_train)\n",
    "    \n",
    "    # Predict probabilities for the positive class on the validation data\n",
    "    preds_val_lr = lr_model.predict_proba(X_val)[:, 1]\n",
    "    \n",
    "    # Calculate ROC AUC score for the validation set\n",
    "    auc_score = roc_auc_score(y_val, preds_val_lr)\n",
    "    auc_scores.append(auc_score)\n",
    "\n",
    "# Print the scores for each fold\n",
    "for i, score in enumerate(auc_scores, 1):\n",
    "    print(f'ROC AUC for fold {i}: {score:.4f}')\n",
    "\n",
    "print('Average ROC AUC:', round(sum(auc_scores)/len(auc_scores), 4))\n",
    "print('Standard deviation:', round((sum([(x - sum(auc_scores)/len(auc_scores))**2 for x in auc_scores])/len(auc_scores))**0.5, 4))"
   ]
  },
  {
   "cell_type": "markdown",
   "id": "21227b08",
   "metadata": {
    "papermill": {
     "duration": 0.006346,
     "end_time": "2023-11-30T01:00:07.038606",
     "exception": false,
     "start_time": "2023-11-30T01:00:07.032260",
     "status": "completed"
    },
    "tags": []
   },
   "source": [
    "# XGBoost"
   ]
  },
  {
   "cell_type": "code",
   "execution_count": 7,
   "id": "a3ce5e24",
   "metadata": {
    "execution": {
     "iopub.execute_input": "2023-11-30T01:00:07.060855Z",
     "iopub.status.busy": "2023-11-30T01:00:07.060435Z",
     "iopub.status.idle": "2023-11-30T01:03:59.436595Z",
     "shell.execute_reply": "2023-11-30T01:03:59.435957Z"
    },
    "papermill": {
     "duration": 232.393239,
     "end_time": "2023-11-30T01:03:59.442491",
     "exception": false,
     "start_time": "2023-11-30T01:00:07.049252",
     "status": "completed"
    },
    "tags": []
   },
   "outputs": [
    {
     "name": "stdout",
     "output_type": "stream",
     "text": [
      "ROC AUC for fold 1: 0.9986\n",
      "ROC AUC for fold 2: 0.9981\n",
      "ROC AUC for fold 3: 0.9984\n",
      "ROC AUC for fold 4: 0.9985\n",
      "ROC AUC for fold 5: 0.9982\n",
      "Average ROC AUC: 0.9984\n",
      "Standard deviation: 0.0002\n"
     ]
    }
   ],
   "source": [
    "xgb_model = XGBClassifier()\n",
    "cv = StratifiedKFold(n_splits=5, shuffle=True)\n",
    "auc_scores = []\n",
    "\n",
    "# Split the data into training and validation for each fold\n",
    "for train_idx, val_idx in cv.split(X[:train.shape[0]], train['generated']):\n",
    "    X_train, X_val = X[:train.shape[0]][train_idx], X[:train.shape[0]][val_idx]\n",
    "    y_train, y_val = train['generated'].iloc[train_idx], train['generated'].iloc[val_idx]\n",
    "\n",
    "    # Train the model on the training data\n",
    "    xgb_model.fit(X_train, y_train)\n",
    "    \n",
    "    # Predict probabilities for the positive class on the validation data\n",
    "    preds_val_xgb = xgb_model.predict_proba(X_val)[:, 1]\n",
    "    \n",
    "    # Calculate ROC AUC score for the validation set\n",
    "    auc_score = roc_auc_score(y_val, preds_val_xgb)\n",
    "    auc_scores.append(auc_score)\n",
    "\n",
    "# Print the scores for each fold\n",
    "for i, score in enumerate(auc_scores, 1):\n",
    "    print(f'ROC AUC for fold {i}: {score:.4f}')\n",
    "\n",
    "print('Average ROC AUC:', round(sum(auc_scores)/len(auc_scores), 4))\n",
    "print('Standard deviation:', round((sum([(x - sum(auc_scores)/len(auc_scores))**2 for x in auc_scores])/len(auc_scores))**0.5, 4))"
   ]
  },
  {
   "cell_type": "markdown",
   "id": "d925a691",
   "metadata": {
    "papermill": {
     "duration": 0.003642,
     "end_time": "2023-11-30T01:03:59.449992",
     "exception": false,
     "start_time": "2023-11-30T01:03:59.446350",
     "status": "completed"
    },
    "tags": []
   },
   "source": [
    "# final model (change the name of the model variable as needed)"
   ]
  },
  {
   "cell_type": "code",
   "execution_count": 8,
   "id": "7bedd32b",
   "metadata": {
    "execution": {
     "iopub.execute_input": "2023-11-30T01:03:59.460158Z",
     "iopub.status.busy": "2023-11-30T01:03:59.459682Z",
     "iopub.status.idle": "2023-11-30T01:04:49.202680Z",
     "shell.execute_reply": "2023-11-30T01:04:49.201511Z"
    },
    "papermill": {
     "duration": 49.754787,
     "end_time": "2023-11-30T01:04:49.208588",
     "exception": false,
     "start_time": "2023-11-30T01:03:59.453801",
     "status": "completed"
    },
    "tags": []
   },
   "outputs": [
    {
     "name": "stdout",
     "output_type": "stream",
     "text": [
      "              precision    recall  f1-score   support\n",
      "\n",
      "           0       0.98      1.00      0.99      5959\n",
      "           1       0.99      0.97      0.98      2882\n",
      "\n",
      "    accuracy                           0.99      8841\n",
      "   macro avg       0.99      0.98      0.98      8841\n",
      "weighted avg       0.99      0.99      0.99      8841\n",
      "\n",
      "Accuracy: 0.9813141069573382\n",
      "\n"
     ]
    }
   ],
   "source": [
    "# Create the ensemble model\n",
    "ensemble = VotingClassifier(estimators=[('lr', lr_model), ('xgb', xgb_model)], voting='soft')\n",
    "\n",
    "ensemble.fit(X_train, y_train)\n",
    "\n",
    "# Predict on the validation set\n",
    "y_pred = ensemble.predict(X_val)\n",
    "\n",
    "# Print the classification report\n",
    "print(classification_report(y_val, y_pred))\n",
    "\n",
    "# Print the accuracy score\n",
    "print(f'Accuracy: {roc_auc_score(y_val, y_pred)}\\n')"
   ]
  },
  {
   "cell_type": "code",
   "execution_count": 9,
   "id": "87cc8493",
   "metadata": {
    "execution": {
     "iopub.execute_input": "2023-11-30T01:04:49.218776Z",
     "iopub.status.busy": "2023-11-30T01:04:49.218368Z",
     "iopub.status.idle": "2023-11-30T01:04:49.442727Z",
     "shell.execute_reply": "2023-11-30T01:04:49.441378Z"
    },
    "papermill": {
     "duration": 0.232428,
     "end_time": "2023-11-30T01:04:49.445320",
     "exception": false,
     "start_time": "2023-11-30T01:04:49.212892",
     "status": "completed"
    },
    "tags": []
   },
   "outputs": [
    {
     "name": "stdout",
     "output_type": "stream",
     "text": [
      "ROC AUC train: 0.9996478090562537\n"
     ]
    }
   ],
   "source": [
    "preds_train = ensemble.predict_proba(X[:train.shape[0]])[:,1]\n",
    "preds_test = ensemble.predict_proba(X[train.shape[0]:])[:,1]\n",
    "print('ROC AUC train:', roc_auc_score(train['generated'], preds_train))"
   ]
  },
  {
   "cell_type": "code",
   "execution_count": 10,
   "id": "7d93c390",
   "metadata": {
    "execution": {
     "iopub.execute_input": "2023-11-30T01:04:49.455750Z",
     "iopub.status.busy": "2023-11-30T01:04:49.455321Z",
     "iopub.status.idle": "2023-11-30T01:04:49.463658Z",
     "shell.execute_reply": "2023-11-30T01:04:49.462820Z"
    },
    "papermill": {
     "duration": 0.015955,
     "end_time": "2023-11-30T01:04:49.465808",
     "exception": false,
     "start_time": "2023-11-30T01:04:49.449853",
     "status": "completed"
    },
    "tags": []
   },
   "outputs": [],
   "source": [
    "pd.DataFrame({'id':test[\"id\"],'generated':preds_test}).to_csv('submission.csv', index=False)"
   ]
  }
 ],
 "metadata": {
  "kaggle": {
   "accelerator": "none",
   "dataSources": [
    {
     "databundleVersionId": 6888007,
     "sourceId": 61542,
     "sourceType": "competition"
    },
    {
     "datasetId": 3942644,
     "sourceId": 6890527,
     "sourceType": "datasetVersion"
    }
   ],
   "dockerImageVersionId": 30558,
   "isGpuEnabled": false,
   "isInternetEnabled": false,
   "language": "python",
   "sourceType": "notebook"
  },
  "kernelspec": {
   "display_name": "Python 3",
   "language": "python",
   "name": "python3"
  },
  "language_info": {
   "codemirror_mode": {
    "name": "ipython",
    "version": 3
   },
   "file_extension": ".py",
   "mimetype": "text/x-python",
   "name": "python",
   "nbconvert_exporter": "python",
   "pygments_lexer": "ipython3",
   "version": "3.10.12"
  },
  "papermill": {
   "default_parameters": {},
   "duration": 321.310493,
   "end_time": "2023-11-30T01:04:50.191776",
   "environment_variables": {},
   "exception": null,
   "input_path": "__notebook__.ipynb",
   "output_path": "__notebook__.ipynb",
   "parameters": {},
   "start_time": "2023-11-30T00:59:28.881283",
   "version": "2.4.0"
  }
 },
 "nbformat": 4,
 "nbformat_minor": 5
}
