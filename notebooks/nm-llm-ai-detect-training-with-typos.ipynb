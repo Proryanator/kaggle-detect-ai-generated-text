{
 "cells": [
  {
   "cell_type": "markdown",
   "id": "105c6303",
   "metadata": {
    "execution": {
     "iopub.execute_input": "2023-11-23T02:44:53.903104Z",
     "iopub.status.busy": "2023-11-23T02:44:53.902645Z",
     "iopub.status.idle": "2023-11-23T02:44:53.909623Z",
     "shell.execute_reply": "2023-11-23T02:44:53.908117Z",
     "shell.execute_reply.started": "2023-11-23T02:44:53.903073Z"
    },
    "papermill": {
     "duration": 0.005233,
     "end_time": "2023-11-24T03:41:59.365233",
     "exception": false,
     "start_time": "2023-11-24T03:41:59.360000",
     "status": "completed"
    },
    "tags": []
   },
   "source": [
    "# Credit \n",
    "\n",
    "@yekenot Vladimir Demidov https://www.kaggle.com/code/yekenot/llm-detect-by-regression/notebook\n",
    "\n",
    " @ilhansevval - https://www.kaggle.com/code/ilhansevval/ensemble-learning-with-voting-classifier-3\n",
    "    \n",
    "https://www.kaggle.com/code/xiaocao123/ai-generated-text-detection-add-new-data\n",
    "\n",
    "https://www.kaggle.com/code/rsuhara/ai-generated-text-detection-quick-baseline\n",
    "\n",
    "Inspired by VLADIMIR DEMIDOV's work :\n",
    "https://www.kaggle.com/code/yekenot/llm-detect-by-regression\n",
    "https://www.kaggle.com/code/x75a40890/ai-generated-text-detection-quick-baseline\n",
    "\n",
    "Using new train dataset https://www.kaggle.com/datasets/thedrcat/daigt-v2-train-dataset/\n",
    "\n",
    "@chenbaoying https://www.kaggle.com/code/chenbaoying/0-911-ai-generated-text-detection-test-feature#Voting-Classifier\n",
    "\n",
    " "
   ]
  },
  {
   "cell_type": "code",
   "execution_count": 1,
   "id": "54a408de",
   "metadata": {
    "execution": {
     "iopub.execute_input": "2023-11-24T03:41:59.378743Z",
     "iopub.status.busy": "2023-11-24T03:41:59.378344Z",
     "iopub.status.idle": "2023-11-24T03:42:01.243103Z",
     "shell.execute_reply": "2023-11-24T03:42:01.241952Z"
    },
    "papermill": {
     "duration": 1.874269,
     "end_time": "2023-11-24T03:42:01.246149",
     "exception": false,
     "start_time": "2023-11-24T03:41:59.371880",
     "status": "completed"
    },
    "tags": []
   },
   "outputs": [],
   "source": [
    "import regex as re\n",
    "import numpy as np\n",
    "import pandas as pd\n",
    "from sklearn.ensemble import VotingClassifier\n",
    "from sklearn.linear_model import SGDClassifier\n",
    "from sklearn.linear_model import LogisticRegression\n",
    "from sklearn.feature_extraction.text import TfidfVectorizer\n",
    "import random "
   ]
  },
  {
   "cell_type": "code",
   "execution_count": 2,
   "id": "f5ce1f61",
   "metadata": {
    "execution": {
     "iopub.execute_input": "2023-11-24T03:42:01.258242Z",
     "iopub.status.busy": "2023-11-24T03:42:01.257678Z",
     "iopub.status.idle": "2023-11-24T03:42:01.263189Z",
     "shell.execute_reply": "2023-11-24T03:42:01.262225Z"
    },
    "papermill": {
     "duration": 0.014559,
     "end_time": "2023-11-24T03:42:01.265588",
     "exception": false,
     "start_time": "2023-11-24T03:42:01.251029",
     "status": "completed"
    },
    "tags": []
   },
   "outputs": [],
   "source": [
    "random.seed(42)\n",
    "np.random.seed(42)"
   ]
  },
  {
   "cell_type": "markdown",
   "id": "ff877040",
   "metadata": {
    "papermill": {
     "duration": 0.004424,
     "end_time": "2023-11-24T03:42:01.274747",
     "exception": false,
     "start_time": "2023-11-24T03:42:01.270323",
     "status": "completed"
    },
    "tags": []
   },
   "source": [
    "## Using dataset with artificially introduced typos to mimick the hidden test data"
   ]
  },
  {
   "cell_type": "code",
   "execution_count": 3,
   "id": "af578d81",
   "metadata": {
    "execution": {
     "iopub.execute_input": "2023-11-24T03:42:01.285746Z",
     "iopub.status.busy": "2023-11-24T03:42:01.285366Z",
     "iopub.status.idle": "2023-11-24T03:42:02.952806Z",
     "shell.execute_reply": "2023-11-24T03:42:02.951594Z"
    },
    "papermill": {
     "duration": 1.676172,
     "end_time": "2023-11-24T03:42:02.955451",
     "exception": false,
     "start_time": "2023-11-24T03:42:01.279279",
     "status": "completed"
    },
    "tags": []
   },
   "outputs": [
    {
     "data": {
      "text/plain": [
       "label\n",
       "0    14250\n",
       "1    14250\n",
       "Name: count, dtype: int64"
      ]
     },
     "execution_count": 3,
     "metadata": {},
     "output_type": "execute_result"
    }
   ],
   "source": [
    "train = pd.read_csv(\"/kaggle/input/ai-essay-detection-daigt-v2-dataset-with-typos/daigt-v2-train-dataset-with-typos.csv\")\n",
    "# train = pd.read_csv('/kaggle/input/ai-essay-detection-daigt-v2-dataset-with-typos/daigt-v2-train-dataset-without-typos.csv')\n",
    "test = pd.read_csv('/kaggle/input/llm-detect-ai-generated-text/test_essays.csv')\n",
    "train['text'] = train['text'].str.replace('\\n', '')\n",
    "test['text'] = test['text'].str.replace('\\n', '') \n",
    "train.label.value_counts()"
   ]
  },
  {
   "cell_type": "code",
   "execution_count": 4,
   "id": "e1ba5fe7",
   "metadata": {
    "execution": {
     "iopub.execute_input": "2023-11-24T03:42:02.967270Z",
     "iopub.status.busy": "2023-11-24T03:42:02.966870Z",
     "iopub.status.idle": "2023-11-24T03:42:02.972124Z",
     "shell.execute_reply": "2023-11-24T03:42:02.971102Z"
    },
    "papermill": {
     "duration": 0.014134,
     "end_time": "2023-11-24T03:42:02.974621",
     "exception": false,
     "start_time": "2023-11-24T03:42:02.960487",
     "status": "completed"
    },
    "tags": []
   },
   "outputs": [],
   "source": [
    "# train1 = train.groupby('label').apply(lambda x: x.sample(150000)).reset_index(drop=True)\n",
    "# train1.label.value_counts()"
   ]
  },
  {
   "cell_type": "code",
   "execution_count": 5,
   "id": "49417a1a",
   "metadata": {
    "execution": {
     "iopub.execute_input": "2023-11-24T03:42:02.986702Z",
     "iopub.status.busy": "2023-11-24T03:42:02.986281Z",
     "iopub.status.idle": "2023-11-24T03:42:06.463145Z",
     "shell.execute_reply": "2023-11-24T03:42:06.461995Z"
    },
    "papermill": {
     "duration": 3.48619,
     "end_time": "2023-11-24T03:42:06.465841",
     "exception": false,
     "start_time": "2023-11-24T03:42:02.979651",
     "status": "completed"
    },
    "tags": []
   },
   "outputs": [
    {
     "name": "stdout",
     "output_type": "stream",
     "text": [
      "@🏙🏽👥🤗😩护🙌😷中💨🔥🍕’🏕禁💅🙄驶🏠🌞—🏡🥦🧹о🎬⚽💔🌿🧡🍿🕒”😕🔬🏋🎶🤪🚔з🤔😊÷司🥪🏏🍟🛋💇🤣🐶机🎠上💡🏞♀🌏📞📝有🥨🔑🌱🎤🥕🕵🔋用🏟🏀🍔🍄🎢🏖🏳😔🦁必🌸🧠–‍📄🏼🍝🎸🐳💆。💰👫🤦👻🤓‘🧙👇🏨意🧩😡🐠🙈🍁🏆💭🎉🌯都😆💻🤢该🏛👍😒🦎🤷🤟💘时👂ü📣😳😱п🇸\n"
     ]
    }
   ],
   "source": [
    "## credit @nbroad, @phucpx\n",
    "\n",
    "student_df = train[train['label'] == 0]\n",
    "llm_df = train[train['label'] == 1]\n",
    "\n",
    "all_human = set(list(''.join(student_df.text.to_list())))\n",
    "other = set(list(''.join(llm_df.text.to_list())))\n",
    "chars_to_remove = ''.join([x for x in other if x not in all_human])\n",
    "print(chars_to_remove)\n",
    "\n",
    "translation_table = str.maketrans('', '', chars_to_remove)\n",
    "def remove_chars(s):\n",
    "    return s.translate(translation_table) \n",
    "train['text'] = train['text'].apply(remove_chars)"
   ]
  },
  {
   "cell_type": "code",
   "execution_count": 6,
   "id": "a5dc67e1",
   "metadata": {
    "execution": {
     "iopub.execute_input": "2023-11-24T03:42:06.477506Z",
     "iopub.status.busy": "2023-11-24T03:42:06.477053Z",
     "iopub.status.idle": "2023-11-24T03:42:34.867482Z",
     "shell.execute_reply": "2023-11-24T03:42:34.866221Z"
    },
    "papermill": {
     "duration": 28.398916,
     "end_time": "2023-11-24T03:42:34.869939",
     "exception": false,
     "start_time": "2023-11-24T03:42:06.471023",
     "status": "completed"
    },
    "tags": []
   },
   "outputs": [
    {
     "name": "stdout",
     "output_type": "stream",
     "text": [
      "CPU times: user 28.4 s, sys: 3.99 ms, total: 28.4 s\n",
      "Wall time: 28.4 s\n"
     ]
    }
   ],
   "source": [
    "%%time\n",
    "\n",
    "df = pd.concat([train['text'], test['text']])\n",
    "\n",
    "vectorizer = TfidfVectorizer(sublinear_tf=True,\n",
    "                             ngram_range=(3, 4),\n",
    "#                              tokenizer=lambda x: re.findall(r'[^\\W]+', x),\n",
    "#                              token_pattern=None,\n",
    "                             token_pattern = r'(?u)\\b\\w+\\b|\\b\\w\\b',\n",
    "                             strip_accents='unicode',\n",
    "                             )\n",
    "\n",
    "vectorizer = vectorizer.fit(test.text)\n",
    "X = vectorizer.transform(df)"
   ]
  },
  {
   "cell_type": "code",
   "execution_count": 7,
   "id": "18f7d1b2",
   "metadata": {
    "execution": {
     "iopub.execute_input": "2023-11-24T03:42:34.882090Z",
     "iopub.status.busy": "2023-11-24T03:42:34.881693Z",
     "iopub.status.idle": "2023-11-24T03:42:34.937451Z",
     "shell.execute_reply": "2023-11-24T03:42:34.936343Z"
    },
    "papermill": {
     "duration": 0.064545,
     "end_time": "2023-11-24T03:42:34.939968",
     "exception": false,
     "start_time": "2023-11-24T03:42:34.875423",
     "status": "completed"
    },
    "tags": []
   },
   "outputs": [
    {
     "name": "stdout",
     "output_type": "stream",
     "text": [
      "CPU times: user 25.9 ms, sys: 3.02 ms, total: 28.9 ms\n",
      "Wall time: 34.1 ms\n"
     ]
    },
    {
     "data": {
      "text/html": [
       "<style>#sk-container-id-1 {color: black;background-color: white;}#sk-container-id-1 pre{padding: 0;}#sk-container-id-1 div.sk-toggleable {background-color: white;}#sk-container-id-1 label.sk-toggleable__label {cursor: pointer;display: block;width: 100%;margin-bottom: 0;padding: 0.3em;box-sizing: border-box;text-align: center;}#sk-container-id-1 label.sk-toggleable__label-arrow:before {content: \"▸\";float: left;margin-right: 0.25em;color: #696969;}#sk-container-id-1 label.sk-toggleable__label-arrow:hover:before {color: black;}#sk-container-id-1 div.sk-estimator:hover label.sk-toggleable__label-arrow:before {color: black;}#sk-container-id-1 div.sk-toggleable__content {max-height: 0;max-width: 0;overflow: hidden;text-align: left;background-color: #f0f8ff;}#sk-container-id-1 div.sk-toggleable__content pre {margin: 0.2em;color: black;border-radius: 0.25em;background-color: #f0f8ff;}#sk-container-id-1 input.sk-toggleable__control:checked~div.sk-toggleable__content {max-height: 200px;max-width: 100%;overflow: auto;}#sk-container-id-1 input.sk-toggleable__control:checked~label.sk-toggleable__label-arrow:before {content: \"▾\";}#sk-container-id-1 div.sk-estimator input.sk-toggleable__control:checked~label.sk-toggleable__label {background-color: #d4ebff;}#sk-container-id-1 div.sk-label input.sk-toggleable__control:checked~label.sk-toggleable__label {background-color: #d4ebff;}#sk-container-id-1 input.sk-hidden--visually {border: 0;clip: rect(1px 1px 1px 1px);clip: rect(1px, 1px, 1px, 1px);height: 1px;margin: -1px;overflow: hidden;padding: 0;position: absolute;width: 1px;}#sk-container-id-1 div.sk-estimator {font-family: monospace;background-color: #f0f8ff;border: 1px dotted black;border-radius: 0.25em;box-sizing: border-box;margin-bottom: 0.5em;}#sk-container-id-1 div.sk-estimator:hover {background-color: #d4ebff;}#sk-container-id-1 div.sk-parallel-item::after {content: \"\";width: 100%;border-bottom: 1px solid gray;flex-grow: 1;}#sk-container-id-1 div.sk-label:hover label.sk-toggleable__label {background-color: #d4ebff;}#sk-container-id-1 div.sk-serial::before {content: \"\";position: absolute;border-left: 1px solid gray;box-sizing: border-box;top: 0;bottom: 0;left: 50%;z-index: 0;}#sk-container-id-1 div.sk-serial {display: flex;flex-direction: column;align-items: center;background-color: white;padding-right: 0.2em;padding-left: 0.2em;position: relative;}#sk-container-id-1 div.sk-item {position: relative;z-index: 1;}#sk-container-id-1 div.sk-parallel {display: flex;align-items: stretch;justify-content: center;background-color: white;position: relative;}#sk-container-id-1 div.sk-item::before, #sk-container-id-1 div.sk-parallel-item::before {content: \"\";position: absolute;border-left: 1px solid gray;box-sizing: border-box;top: 0;bottom: 0;left: 50%;z-index: -1;}#sk-container-id-1 div.sk-parallel-item {display: flex;flex-direction: column;z-index: 1;position: relative;background-color: white;}#sk-container-id-1 div.sk-parallel-item:first-child::after {align-self: flex-end;width: 50%;}#sk-container-id-1 div.sk-parallel-item:last-child::after {align-self: flex-start;width: 50%;}#sk-container-id-1 div.sk-parallel-item:only-child::after {width: 0;}#sk-container-id-1 div.sk-dashed-wrapped {border: 1px dashed gray;margin: 0 0.4em 0.5em 0.4em;box-sizing: border-box;padding-bottom: 0.4em;background-color: white;}#sk-container-id-1 div.sk-label label {font-family: monospace;font-weight: bold;display: inline-block;line-height: 1.2em;}#sk-container-id-1 div.sk-label-container {text-align: center;}#sk-container-id-1 div.sk-container {/* jupyter's `normalize.less` sets `[hidden] { display: none; }` but bootstrap.min.css set `[hidden] { display: none !important; }` so we also need the `!important` here to be able to override the default hidden behavior on the sphinx rendered scikit-learn.org. See: https://github.com/scikit-learn/scikit-learn/issues/21755 */display: inline-block !important;position: relative;}#sk-container-id-1 div.sk-text-repr-fallback {display: none;}</style><div id=\"sk-container-id-1\" class=\"sk-top-container\"><div class=\"sk-text-repr-fallback\"><pre>VotingClassifier(estimators=[(&#x27;lr&#x27;, LogisticRegression()),\n",
       "                             (&#x27;sgd&#x27;,\n",
       "                              SGDClassifier(loss=&#x27;modified_huber&#x27;,\n",
       "                                            max_iter=5000, random_state=42))],\n",
       "                 voting=&#x27;soft&#x27;, weights=[0.01, 0.99])</pre><b>In a Jupyter environment, please rerun this cell to show the HTML representation or trust the notebook. <br />On GitHub, the HTML representation is unable to render, please try loading this page with nbviewer.org.</b></div><div class=\"sk-container\" hidden><div class=\"sk-item sk-dashed-wrapped\"><div class=\"sk-label-container\"><div class=\"sk-label sk-toggleable\"><input class=\"sk-toggleable__control sk-hidden--visually\" id=\"sk-estimator-id-1\" type=\"checkbox\" ><label for=\"sk-estimator-id-1\" class=\"sk-toggleable__label sk-toggleable__label-arrow\">VotingClassifier</label><div class=\"sk-toggleable__content\"><pre>VotingClassifier(estimators=[(&#x27;lr&#x27;, LogisticRegression()),\n",
       "                             (&#x27;sgd&#x27;,\n",
       "                              SGDClassifier(loss=&#x27;modified_huber&#x27;,\n",
       "                                            max_iter=5000, random_state=42))],\n",
       "                 voting=&#x27;soft&#x27;, weights=[0.01, 0.99])</pre></div></div></div><div class=\"sk-parallel\"><div class=\"sk-parallel-item\"><div class=\"sk-item\"><div class=\"sk-label-container\"><div class=\"sk-label sk-toggleable\"><label>lr</label></div></div><div class=\"sk-serial\"><div class=\"sk-item\"><div class=\"sk-estimator sk-toggleable\"><input class=\"sk-toggleable__control sk-hidden--visually\" id=\"sk-estimator-id-2\" type=\"checkbox\" ><label for=\"sk-estimator-id-2\" class=\"sk-toggleable__label sk-toggleable__label-arrow\">LogisticRegression</label><div class=\"sk-toggleable__content\"><pre>LogisticRegression()</pre></div></div></div></div></div></div><div class=\"sk-parallel-item\"><div class=\"sk-item\"><div class=\"sk-label-container\"><div class=\"sk-label sk-toggleable\"><label>sgd</label></div></div><div class=\"sk-serial\"><div class=\"sk-item\"><div class=\"sk-estimator sk-toggleable\"><input class=\"sk-toggleable__control sk-hidden--visually\" id=\"sk-estimator-id-3\" type=\"checkbox\" ><label for=\"sk-estimator-id-3\" class=\"sk-toggleable__label sk-toggleable__label-arrow\">SGDClassifier</label><div class=\"sk-toggleable__content\"><pre>SGDClassifier(loss=&#x27;modified_huber&#x27;, max_iter=5000, random_state=42)</pre></div></div></div></div></div></div></div></div></div></div>"
      ],
      "text/plain": [
       "VotingClassifier(estimators=[('lr', LogisticRegression()),\n",
       "                             ('sgd',\n",
       "                              SGDClassifier(loss='modified_huber',\n",
       "                                            max_iter=5000, random_state=42))],\n",
       "                 voting='soft', weights=[0.01, 0.99])"
      ]
     },
     "execution_count": 7,
     "metadata": {},
     "output_type": "execute_result"
    }
   ],
   "source": [
    "%%time\n",
    "lr_model = LogisticRegression()\n",
    "sgd_model = SGDClassifier(max_iter=5000, loss=\"modified_huber\", random_state=42)\n",
    "\n",
    "ensemble = VotingClassifier(estimators=[('lr', lr_model),\n",
    "                                        ('sgd', sgd_model),\n",
    "                                       ],\n",
    "                            weights=[0.01, 0.99],\n",
    "                            voting='soft'\n",
    "                           )\n",
    "ensemble.fit(X[:train.shape[0]], train.label)"
   ]
  },
  {
   "cell_type": "code",
   "execution_count": 8,
   "id": "6f514bde",
   "metadata": {
    "execution": {
     "iopub.execute_input": "2023-11-24T03:42:34.953183Z",
     "iopub.status.busy": "2023-11-24T03:42:34.952011Z",
     "iopub.status.idle": "2023-11-24T03:42:34.962501Z",
     "shell.execute_reply": "2023-11-24T03:42:34.961418Z"
    },
    "papermill": {
     "duration": 0.019688,
     "end_time": "2023-11-24T03:42:34.965169",
     "exception": false,
     "start_time": "2023-11-24T03:42:34.945481",
     "status": "completed"
    },
    "tags": []
   },
   "outputs": [],
   "source": [
    "preds_test = ensemble.predict_proba(X[train.shape[0]:])[:, 1]\n",
    "pd.DataFrame({'id':test[\"id\"], 'generated':preds_test}).to_csv('submission.csv', index=False)"
   ]
  },
  {
   "cell_type": "code",
   "execution_count": 9,
   "id": "dc247f76",
   "metadata": {
    "execution": {
     "iopub.execute_input": "2023-11-24T03:42:34.978273Z",
     "iopub.status.busy": "2023-11-24T03:42:34.977569Z",
     "iopub.status.idle": "2023-11-24T03:42:34.992364Z",
     "shell.execute_reply": "2023-11-24T03:42:34.991353Z"
    },
    "papermill": {
     "duration": 0.023948,
     "end_time": "2023-11-24T03:42:34.994712",
     "exception": false,
     "start_time": "2023-11-24T03:42:34.970764",
     "status": "completed"
    },
    "tags": []
   },
   "outputs": [
    {
     "data": {
      "text/html": [
       "<div>\n",
       "<style scoped>\n",
       "    .dataframe tbody tr th:only-of-type {\n",
       "        vertical-align: middle;\n",
       "    }\n",
       "\n",
       "    .dataframe tbody tr th {\n",
       "        vertical-align: top;\n",
       "    }\n",
       "\n",
       "    .dataframe thead th {\n",
       "        text-align: right;\n",
       "    }\n",
       "</style>\n",
       "<table border=\"1\" class=\"dataframe\">\n",
       "  <thead>\n",
       "    <tr style=\"text-align: right;\">\n",
       "      <th></th>\n",
       "      <th>id</th>\n",
       "      <th>generated</th>\n",
       "    </tr>\n",
       "  </thead>\n",
       "  <tbody>\n",
       "    <tr>\n",
       "      <th>0</th>\n",
       "      <td>0000aaaa</td>\n",
       "      <td>0.506984</td>\n",
       "    </tr>\n",
       "    <tr>\n",
       "      <th>1</th>\n",
       "      <td>1111bbbb</td>\n",
       "      <td>0.506984</td>\n",
       "    </tr>\n",
       "    <tr>\n",
       "      <th>2</th>\n",
       "      <td>2222cccc</td>\n",
       "      <td>0.506984</td>\n",
       "    </tr>\n",
       "  </tbody>\n",
       "</table>\n",
       "</div>"
      ],
      "text/plain": [
       "         id  generated\n",
       "0  0000aaaa   0.506984\n",
       "1  1111bbbb   0.506984\n",
       "2  2222cccc   0.506984"
      ]
     },
     "execution_count": 9,
     "metadata": {},
     "output_type": "execute_result"
    }
   ],
   "source": [
    "pd.read_csv('/kaggle/working/submission.csv')"
   ]
  },
  {
   "cell_type": "code",
   "execution_count": null,
   "id": "9684190e",
   "metadata": {
    "papermill": {
     "duration": 0.00533,
     "end_time": "2023-11-24T03:42:35.005727",
     "exception": false,
     "start_time": "2023-11-24T03:42:35.000397",
     "status": "completed"
    },
    "tags": []
   },
   "outputs": [],
   "source": []
  }
 ],
 "metadata": {
  "kaggle": {
   "accelerator": "none",
   "dataSources": [
    {
     "databundleVersionId": 6888007,
     "sourceId": 61542,
     "sourceType": "competition"
    },
    {
     "datasetId": 4044263,
     "isSourceIdPinned": true,
     "sourceId": 7031165,
     "sourceType": "datasetVersion"
    }
   ],
   "dockerImageVersionId": 30587,
   "isGpuEnabled": false,
   "isInternetEnabled": false,
   "language": "python",
   "sourceType": "notebook"
  },
  "kernelspec": {
   "display_name": "Python 3",
   "language": "python",
   "name": "python3"
  },
  "language_info": {
   "codemirror_mode": {
    "name": "ipython",
    "version": 3
   },
   "file_extension": ".py",
   "mimetype": "text/x-python",
   "name": "python",
   "nbconvert_exporter": "python",
   "pygments_lexer": "ipython3",
   "version": "3.10.12"
  },
  "papermill": {
   "default_parameters": {},
   "duration": 39.66834,
   "end_time": "2023-11-24T03:42:35.632753",
   "environment_variables": {},
   "exception": null,
   "input_path": "__notebook__.ipynb",
   "output_path": "__notebook__.ipynb",
   "parameters": {},
   "start_time": "2023-11-24T03:41:55.964413",
   "version": "2.4.0"
  }
 },
 "nbformat": 4,
 "nbformat_minor": 5
}
